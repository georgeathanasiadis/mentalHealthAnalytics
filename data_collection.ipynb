{
 "cells": [
  {
   "cell_type": "code",
   "execution_count": 1,
   "outputs": [],
   "source": [
    "import json\n",
    "import fitbitAPI\n",
    "import pandas as pd\n",
    "from datetime import datetime"
   ],
   "metadata": {
    "collapsed": false,
    "pycharm": {
     "name": "#%%\n"
    }
   }
  },
  {
   "cell_type": "markdown",
   "source": [
    "## Fitbit API connection"
   ],
   "metadata": {
    "collapsed": false,
    "pycharm": {
     "name": "#%% md\n"
    }
   }
  },
  {
   "cell_type": "code",
   "execution_count": null,
   "outputs": [],
   "source": [
    "fitbit_api = fitbitAPI.connect()"
   ],
   "metadata": {
    "collapsed": false,
    "pycharm": {
     "name": "#%%\n",
     "is_executing": true
    }
   }
  },
  {
   "cell_type": "markdown",
   "source": [
    "## Data collection"
   ],
   "metadata": {
    "collapsed": false,
    "pycharm": {
     "name": "#%% md\n"
    }
   }
  },
  {
   "cell_type": "markdown",
   "source": [
    "Create the collection date range"
   ],
   "metadata": {
    "collapsed": false,
    "pycharm": {
     "name": "#%% md\n"
    }
   }
  },
  {
   "cell_type": "code",
   "execution_count": null,
   "outputs": [],
   "source": [
    "startTime = pd.datetime(year = 2023, month = 2, day = 15)\n",
    "endTime = pd.datetime(year = 2023, month = 4, day = 15)\n",
    "dates = pd.date_range(start=startTime, end = endTime)"
   ],
   "metadata": {
    "collapsed": false,
    "pycharm": {
     "name": "#%%\n",
     "is_executing": true
    }
   }
  },
  {
   "cell_type": "markdown",
   "source": [
    "#### Sleep data"
   ],
   "metadata": {
    "collapsed": false,
    "pycharm": {
     "name": "#%% md\n"
    }
   }
  },
  {
   "cell_type": "code",
   "execution_count": 4,
   "outputs": [
    {
     "data": {
      "text/plain": "[{'type': 'sleep',\n  'data': {'date': '2023-02-19',\n   'duration': 16800000,\n   'efficiency': 94,\n   'deep': 44,\n   'light': 145,\n   'rem': 54,\n   'wake': 37}},\n {'type': 'sleep',\n  'data': {'date': '2023-02-21',\n   'duration': 29220000,\n   'efficiency': 94,\n   'deep': 78,\n   'light': 291,\n   'rem': 59,\n   'wake': 59}},\n {'type': 'sleep',\n  'data': {'date': '2023-02-22',\n   'duration': 34680000,\n   'efficiency': 94,\n   'deep': 87,\n   'light': 306,\n   'rem': 110,\n   'wake': 75}},\n {'type': 'sleep',\n  'data': {'date': '2023-02-23',\n   'duration': 24780000,\n   'efficiency': 97,\n   'deep': 57,\n   'light': 257,\n   'rem': 48,\n   'wake': 51}},\n {'type': 'sleep',\n  'data': {'date': '2023-02-24',\n   'duration': 29160000,\n   'efficiency': 94,\n   'deep': 105,\n   'light': 230,\n   'rem': 95,\n   'wake': 56}},\n {'type': 'sleep',\n  'data': {'date': '2023-02-26',\n   'duration': 34020000,\n   'efficiency': 95,\n   'deep': 78,\n   'light': 345,\n   'rem': 79,\n   'wake': 65}},\n {'type': 'sleep',\n  'data': {'date': '2023-02-27',\n   'duration': 23880000,\n   'efficiency': 92,\n   'deep': 53,\n   'light': 215,\n   'rem': 78,\n   'wake': 52}},\n {'type': 'sleep',\n  'data': {'date': '2023-02-28',\n   'duration': 22920000,\n   'efficiency': 91,\n   'deep': 78,\n   'light': 188,\n   'rem': 64,\n   'wake': 52}},\n {'type': 'sleep',\n  'data': {'date': '2023-03-01',\n   'duration': 4200000,\n   'efficiency': 90,\n   'deep': 47,\n   'light': 227,\n   'rem': 59,\n   'wake': 65}},\n {'type': 'sleep',\n  'data': {'date': '2023-03-02',\n   'duration': 24180000,\n   'efficiency': 96,\n   'deep': 83,\n   'light': 208,\n   'rem': 61,\n   'wake': 51}},\n {'type': 'sleep',\n  'data': {'date': '2023-03-03',\n   'duration': 6900000,\n   'efficiency': 100,\n   'deep': 67,\n   'light': 236,\n   'rem': 69,\n   'wake': 39}},\n {'type': 'sleep',\n  'data': {'date': '2023-03-05',\n   'duration': 23100000,\n   'efficiency': 96,\n   'deep': 74,\n   'light': 212,\n   'rem': 61,\n   'wake': 38}},\n {'type': 'sleep',\n  'data': {'date': '2023-03-06',\n   'duration': 19620000,\n   'efficiency': 95,\n   'deep': 66,\n   'light': 174,\n   'rem': 53,\n   'wake': 34}},\n {'type': 'sleep',\n  'data': {'date': '2023-03-07',\n   'duration': 24960000,\n   'efficiency': 99,\n   'deep': 86,\n   'light': 208,\n   'rem': 89,\n   'wake': 33}},\n {'type': 'sleep',\n  'data': {'date': '2023-03-08',\n   'duration': 22560000,\n   'efficiency': 97,\n   'deep': 72,\n   'light': 196,\n   'rem': 73,\n   'wake': 35}},\n {'type': 'sleep',\n  'data': {'date': '2023-03-09',\n   'duration': 18240000,\n   'efficiency': 97,\n   'deep': 55,\n   'light': 163,\n   'rem': 67,\n   'wake': 19}},\n {'type': 'sleep',\n  'data': {'date': '2023-03-10',\n   'duration': 18960000,\n   'efficiency': 97,\n   'deep': 52,\n   'light': 157,\n   'rem': 79,\n   'wake': 28}},\n {'type': 'sleep',\n  'data': {'date': '2023-03-11',\n   'duration': 17160000,\n   'efficiency': 93,\n   'deep': 38,\n   'light': 167,\n   'rem': 53,\n   'wake': 28}},\n {'type': 'sleep',\n  'data': {'date': '2023-03-12',\n   'duration': 38460000,\n   'efficiency': 90,\n   'deep': 90,\n   'light': 350,\n   'rem': 120,\n   'wake': 81}},\n {'type': 'sleep',\n  'data': {'date': '2023-03-13',\n   'duration': 21780000,\n   'efficiency': 98,\n   'deep': 67,\n   'light': 192,\n   'rem': 75,\n   'wake': 29}},\n {'type': 'sleep',\n  'data': {'date': '2023-03-14',\n   'duration': 22020000,\n   'efficiency': 97,\n   'deep': 75,\n   'light': 189,\n   'rem': 67,\n   'wake': 36}},\n {'type': 'sleep',\n  'data': {'date': '2023-03-15',\n   'duration': 3900000,\n   'efficiency': 92,\n   'deep': 104,\n   'light': 222,\n   'rem': 75,\n   'wake': 41}},\n {'type': 'sleep',\n  'data': {'date': '2023-03-16',\n   'duration': 27480000,\n   'efficiency': 97,\n   'deep': 68,\n   'light': 251,\n   'rem': 92,\n   'wake': 47}},\n {'type': 'sleep',\n  'data': {'date': '2023-03-17',\n   'duration': 18420000,\n   'efficiency': 98,\n   'deep': 52,\n   'light': 157,\n   'rem': 77,\n   'wake': 21}},\n {'type': 'sleep',\n  'data': {'date': '2023-03-18',\n   'duration': 40920000,\n   'efficiency': 96,\n   'deep': 106,\n   'light': 352,\n   'rem': 105,\n   'wake': 119}},\n {'type': 'sleep',\n  'data': {'date': '2023-04-08',\n   'duration': 27180000,\n   'efficiency': 96,\n   'deep': 62,\n   'light': 272,\n   'rem': 79,\n   'wake': 40}},\n {'type': 'sleep',\n  'data': {'date': '2023-04-10',\n   'duration': 19560000,\n   'efficiency': 99,\n   'deep': 44,\n   'light': 193,\n   'rem': 64,\n   'wake': 25}},\n {'type': 'sleep',\n  'data': {'date': '2023-04-11',\n   'duration': 23400000,\n   'efficiency': 99,\n   'deep': 60,\n   'light': 215,\n   'rem': 97,\n   'wake': 18}},\n {'type': 'sleep',\n  'data': {'date': '2023-04-13',\n   'duration': 31440000,\n   'efficiency': 97,\n   'deep': 120,\n   'light': 260,\n   'rem': 82,\n   'wake': 62}},\n {'type': 'sleep',\n  'data': {'date': '2023-04-15',\n   'duration': 35940000,\n   'efficiency': 96,\n   'deep': 59,\n   'light': 383,\n   'rem': 107,\n   'wake': 50}}]"
     },
     "execution_count": 4,
     "metadata": {},
     "output_type": "execute_result"
    }
   ],
   "source": [
    "sleep = []\n",
    "for date in dates:\n",
    "    date = date.date().strftime(\"%Y-%m-%d\")\n",
    "\n",
    "    sleep_data = fitbit_api.sleep(date=date)  # api call\n",
    "\n",
    "    if sleep_data['sleep']:\n",
    "        sleep_dict = {'type': 'sleep'}\n",
    "\n",
    "        data = {'date': date}\n",
    "        keys = ['duration', 'efficiency'] # select data from api\n",
    "        data.update({x:sleep_data['sleep'][0][x] for x in keys}) # create a dict that is ONE Fitbit record/document in the collection\n",
    "\n",
    "        keys = ['deep', 'light', 'rem', 'wake'] # select data from api\n",
    "        data.update({x:sleep_data['summary']['stages'][x] for x in keys}) # create a dict that is ONE Fitbit record/document in the collection\n",
    "\n",
    "        sleep_dict.update({'data': data})\n",
    "        sleep.append(sleep_dict)\n",
    "sleep"
   ],
   "metadata": {
    "collapsed": false,
    "pycharm": {
     "name": "#%%\n"
    }
   }
  },
  {
   "cell_type": "code",
   "execution_count": 5,
   "outputs": [],
   "source": [
    "with open(\"data/sleep.json\", \"w\") as outfile:\n",
    "    json.dump(sleep, outfile)"
   ],
   "metadata": {
    "collapsed": false,
    "pycharm": {
     "name": "#%%\n"
    }
   }
  },
  {
   "cell_type": "markdown",
   "source": [
    "#### Activity data"
   ],
   "metadata": {
    "collapsed": false,
    "pycharm": {
     "name": "#%% md\n"
    }
   }
  },
  {
   "cell_type": "code",
   "execution_count": 5,
   "outputs": [
    {
     "data": {
      "text/plain": "[{'type': 'activity',\n  'data': {'date': '2023-02-15',\n   'caloriesOut': 1851,\n   'floors': 14,\n   'steps': 5791,\n   'sedentaryMinutes': 1230,\n   'veryActiveMinutes': 8,\n   'lightlyActiveMinutes': 200,\n   'moderatelyActiveMinutes': 2,\n   'veryActive_distance': 0.52,\n   'moderatelyActive_distance': 0.03,\n   'lightlyActive_distance': 2.04,\n   'sedentaryActive_distance': 0}},\n {'type': 'activity',\n  'data': {'date': '2023-02-16',\n   'caloriesOut': 2297,\n   'floors': 20,\n   'steps': 14945,\n   'sedentaryMinutes': 1107,\n   'veryActiveMinutes': 27,\n   'lightlyActiveMinutes': 268,\n   'moderatelyActiveMinutes': 38,\n   'veryActive_distance': 1.4,\n   'moderatelyActive_distance': 1.68,\n   'lightlyActive_distance': 3.46,\n   'sedentaryActive_distance': 0}},\n {'type': 'activity',\n  'data': {'date': '2023-02-17',\n   'caloriesOut': 2013,\n   'floors': 10,\n   'steps': 8214,\n   'sedentaryMinutes': 1171,\n   'veryActiveMinutes': 11,\n   'lightlyActiveMinutes': 257,\n   'moderatelyActiveMinutes': 1,\n   'veryActive_distance': 0.56,\n   'moderatelyActive_distance': 0.05,\n   'lightlyActive_distance': 2.79,\n   'sedentaryActive_distance': 0}},\n {'type': 'activity',\n  'data': {'date': '2023-02-18',\n   'caloriesOut': 1815,\n   'floors': 8,\n   'steps': 5357,\n   'sedentaryMinutes': 1251,\n   'veryActiveMinutes': 0,\n   'lightlyActiveMinutes': 178,\n   'moderatelyActiveMinutes': 11,\n   'veryActive_distance': 0,\n   'moderatelyActive_distance': 0.15,\n   'lightlyActive_distance': 2.19,\n   'sedentaryActive_distance': 0}},\n {'type': 'activity',\n  'data': {'date': '2023-02-19',\n   'caloriesOut': 1382,\n   'floors': 0,\n   'steps': 565,\n   'sedentaryMinutes': 1135,\n   'veryActiveMinutes': 0,\n   'lightlyActiveMinutes': 25,\n   'moderatelyActiveMinutes': 0,\n   'veryActive_distance': 0,\n   'moderatelyActive_distance': 0,\n   'lightlyActive_distance': 0.24,\n   'sedentaryActive_distance': 0}},\n {'type': 'activity',\n  'data': {'date': '2023-02-20',\n   'caloriesOut': 1777,\n   'floors': 9,\n   'steps': 6146,\n   'sedentaryMinutes': 1256,\n   'veryActiveMinutes': 10,\n   'lightlyActiveMinutes': 166,\n   'moderatelyActiveMinutes': 8,\n   'veryActive_distance': 0.65,\n   'moderatelyActive_distance': 0.25,\n   'lightlyActive_distance': 1.79,\n   'sedentaryActive_distance': 0}},\n {'type': 'activity',\n  'data': {'date': '2023-02-21',\n   'caloriesOut': 2002,\n   'floors': 4,\n   'steps': 5965,\n   'sedentaryMinutes': 710,\n   'veryActiveMinutes': 0,\n   'lightlyActiveMinutes': 222,\n   'moderatelyActiveMinutes': 21,\n   'veryActive_distance': 0,\n   'moderatelyActive_distance': 0.12,\n   'lightlyActive_distance': 2.43,\n   'sedentaryActive_distance': 0}},\n {'type': 'activity',\n  'data': {'date': '2023-02-22',\n   'caloriesOut': 1967,\n   'floors': 9,\n   'steps': 5308,\n   'sedentaryMinutes': 624,\n   'veryActiveMinutes': 0,\n   'lightlyActiveMinutes': 238,\n   'moderatelyActiveMinutes': 0,\n   'veryActive_distance': 0,\n   'moderatelyActive_distance': 0,\n   'lightlyActive_distance': 2.32,\n   'sedentaryActive_distance': 0}},\n {'type': 'activity',\n  'data': {'date': '2023-02-23',\n   'caloriesOut': 1978,\n   'floors': 5,\n   'steps': 6816,\n   'sedentaryMinutes': 767,\n   'veryActiveMinutes': 8,\n   'lightlyActiveMinutes': 237,\n   'moderatelyActiveMinutes': 15,\n   'veryActive_distance': 0.14,\n   'moderatelyActive_distance': 0.36,\n   'lightlyActive_distance': 2.43,\n   'sedentaryActive_distance': 0}},\n {'type': 'activity',\n  'data': {'date': '2023-02-24',\n   'caloriesOut': 1883,\n   'floors': 12,\n   'steps': 6542,\n   'sedentaryMinutes': 741,\n   'veryActiveMinutes': 5,\n   'lightlyActiveMinutes': 204,\n   'moderatelyActiveMinutes': 4,\n   'veryActive_distance': 0.26,\n   'moderatelyActive_distance': 0.13,\n   'lightlyActive_distance': 2.33,\n   'sedentaryActive_distance': 0}},\n {'type': 'activity',\n  'data': {'date': '2023-02-25',\n   'caloriesOut': 2724,\n   'floors': 25,\n   'steps': 23605,\n   'sedentaryMinutes': 957,\n   'veryActiveMinutes': 29,\n   'lightlyActiveMinutes': 364,\n   'moderatelyActiveMinutes': 90,\n   'veryActive_distance': 1.44,\n   'moderatelyActive_distance': 3.08,\n   'lightlyActive_distance': 5.65,\n   'sedentaryActive_distance': 0}},\n {'type': 'activity',\n  'data': {'date': '2023-02-26',\n   'caloriesOut': 2806,\n   'floors': 35,\n   'steps': 23772,\n   'sedentaryMinutes': 458,\n   'veryActiveMinutes': 59,\n   'lightlyActiveMinutes': 288,\n   'moderatelyActiveMinutes': 68,\n   'veryActive_distance': 2.95,\n   'moderatelyActive_distance': 2.46,\n   'lightlyActive_distance': 3.98,\n   'sedentaryActive_distance': 0}},\n {'type': 'activity',\n  'data': {'date': '2023-02-27',\n   'caloriesOut': 2585,\n   'floors': 35,\n   'steps': 21940,\n   'sedentaryMinutes': 718,\n   'veryActiveMinutes': 27,\n   'lightlyActiveMinutes': 262,\n   'moderatelyActiveMinutes': 35,\n   'veryActive_distance': 1.66,\n   'moderatelyActive_distance': 1.07,\n   'lightlyActive_distance': 3.23,\n   'sedentaryActive_distance': 0}},\n {'type': 'activity',\n  'data': {'date': '2023-02-28',\n   'caloriesOut': 2506,\n   'floors': 25,\n   'steps': 16997,\n   'sedentaryMinutes': 657,\n   'veryActiveMinutes': 29,\n   'lightlyActiveMinutes': 319,\n   'moderatelyActiveMinutes': 53,\n   'veryActive_distance': 1.43,\n   'moderatelyActive_distance': 1.61,\n   'lightlyActive_distance': 4.34,\n   'sedentaryActive_distance': 0}},\n {'type': 'activity',\n  'data': {'date': '2023-03-01',\n   'caloriesOut': 2529,\n   'floors': 25,\n   'steps': 17297,\n   'sedentaryMinutes': 728,\n   'veryActiveMinutes': 4,\n   'lightlyActiveMinutes': 232,\n   'moderatelyActiveMinutes': 8,\n   'veryActive_distance': 0.2,\n   'moderatelyActive_distance': 0.33,\n   'lightlyActive_distance': 3.59,\n   'sedentaryActive_distance': 0}},\n {'type': 'activity',\n  'data': {'date': '2023-03-02',\n   'caloriesOut': 1958,\n   'floors': 11,\n   'steps': 6935,\n   'sedentaryMinutes': 760,\n   'veryActiveMinutes': 0,\n   'lightlyActiveMinutes': 277,\n   'moderatelyActiveMinutes': 0,\n   'veryActive_distance': 0,\n   'moderatelyActive_distance': 0,\n   'lightlyActive_distance': 2.96,\n   'sedentaryActive_distance': 0}},\n {'type': 'activity',\n  'data': {'date': '2023-03-03',\n   'caloriesOut': 1718,\n   'floors': 18,\n   'steps': 5249,\n   'sedentaryMinutes': 796,\n   'veryActiveMinutes': 0,\n   'lightlyActiveMinutes': 118,\n   'moderatelyActiveMinutes': 0,\n   'veryActive_distance': 0,\n   'moderatelyActive_distance': 0,\n   'lightlyActive_distance': 1.9,\n   'sedentaryActive_distance': 0}},\n {'type': 'activity',\n  'data': {'date': '2023-03-04',\n   'caloriesOut': 1907,\n   'floors': 11,\n   'steps': 5928,\n   'sedentaryMinutes': 1233,\n   'veryActiveMinutes': 3,\n   'lightlyActiveMinutes': 197,\n   'moderatelyActiveMinutes': 7,\n   'veryActive_distance': 0.23,\n   'moderatelyActive_distance': 0.33,\n   'lightlyActive_distance': 2.06,\n   'sedentaryActive_distance': 0}},\n {'type': 'activity',\n  'data': {'date': '2023-03-05',\n   'caloriesOut': 2158,\n   'floors': 16,\n   'steps': 9780,\n   'sedentaryMinutes': 715,\n   'veryActiveMinutes': 0,\n   'lightlyActiveMinutes': 340,\n   'moderatelyActiveMinutes': 0,\n   'veryActive_distance': 0,\n   'moderatelyActive_distance': 0,\n   'lightlyActive_distance': 4.29,\n   'sedentaryActive_distance': 0}},\n {'type': 'activity',\n  'data': {'date': '2023-03-06',\n   'caloriesOut': 2058,\n   'floors': 15,\n   'steps': 10536,\n   'sedentaryMinutes': 848,\n   'veryActiveMinutes': 9,\n   'lightlyActiveMinutes': 245,\n   'moderatelyActiveMinutes': 11,\n   'veryActive_distance': 0.44,\n   'moderatelyActive_distance': 0.46,\n   'lightlyActive_distance': 3.63,\n   'sedentaryActive_distance': 0}},\n {'type': 'activity',\n  'data': {'date': '2023-03-07',\n   'caloriesOut': 2346,\n   'floors': 37,\n   'steps': 17377,\n   'sedentaryMinutes': 671,\n   'veryActiveMinutes': 23,\n   'lightlyActiveMinutes': 294,\n   'moderatelyActiveMinutes': 36,\n   'veryActive_distance': 1.18,\n   'moderatelyActive_distance': 1.48,\n   'lightlyActive_distance': 4.97,\n   'sedentaryActive_distance': 0}},\n {'type': 'activity',\n  'data': {'date': '2023-03-08',\n   'caloriesOut': 1954,\n   'floors': 14,\n   'steps': 8556,\n   'sedentaryMinutes': 797,\n   'veryActiveMinutes': 2,\n   'lightlyActiveMinutes': 259,\n   'moderatelyActiveMinutes': 6,\n   'veryActive_distance': 0.1,\n   'moderatelyActive_distance': 0.23,\n   'lightlyActive_distance': 3.26,\n   'sedentaryActive_distance': 0}},\n {'type': 'activity',\n  'data': {'date': '2023-03-09',\n   'caloriesOut': 1962,\n   'floors': 13,\n   'steps': 7990,\n   'sedentaryMinutes': 890,\n   'veryActiveMinutes': 5,\n   'lightlyActiveMinutes': 236,\n   'moderatelyActiveMinutes': 5,\n   'veryActive_distance': 0.36,\n   'moderatelyActive_distance': 0.17,\n   'lightlyActive_distance': 3.06,\n   'sedentaryActive_distance': 0}},\n {'type': 'activity',\n  'data': {'date': '2023-03-10',\n   'caloriesOut': 2078,\n   'floors': 18,\n   'steps': 9498,\n   'sedentaryMinutes': 849,\n   'veryActiveMinutes': 18,\n   'lightlyActiveMinutes': 247,\n   'moderatelyActiveMinutes': 10,\n   'veryActive_distance': 1.25,\n   'moderatelyActive_distance': 0.27,\n   'lightlyActive_distance': 2.88,\n   'sedentaryActive_distance': 0}},\n {'type': 'activity',\n  'data': {'date': '2023-03-11',\n   'caloriesOut': 2055,\n   'floors': 8,\n   'steps': 10106,\n   'sedentaryMinutes': 893,\n   'veryActiveMinutes': 12,\n   'lightlyActiveMinutes': 239,\n   'moderatelyActiveMinutes': 10,\n   'veryActive_distance': 0.6,\n   'moderatelyActive_distance': 0.31,\n   'lightlyActive_distance': 3.33,\n   'sedentaryActive_distance': 0}},\n {'type': 'activity',\n  'data': {'date': '2023-03-12',\n   'caloriesOut': 2253,\n   'floors': 40,\n   'steps': 16657,\n   'sedentaryMinutes': 514,\n   'veryActiveMinutes': 47,\n   'lightlyActiveMinutes': 183,\n   'moderatelyActiveMinutes': 55,\n   'veryActive_distance': 2.84,\n   'moderatelyActive_distance': 2.21,\n   'lightlyActive_distance': 2.56,\n   'sedentaryActive_distance': 0}},\n {'type': 'activity',\n  'data': {'date': '2023-03-13',\n   'caloriesOut': 2515,\n   'floors': 67,\n   'steps': 15449,\n   'sedentaryMinutes': 697,\n   'veryActiveMinutes': 39,\n   'lightlyActiveMinutes': 310,\n   'moderatelyActiveMinutes': 31,\n   'veryActive_distance': 2.27,\n   'moderatelyActive_distance': 0.7,\n   'lightlyActive_distance': 4.16,\n   'sedentaryActive_distance': 0}},\n {'type': 'activity',\n  'data': {'date': '2023-03-14',\n   'caloriesOut': 3014,\n   'floors': 65,\n   'steps': 15836,\n   'sedentaryMinutes': 636,\n   'veryActiveMinutes': 28,\n   'lightlyActiveMinutes': 378,\n   'moderatelyActiveMinutes': 31,\n   'veryActive_distance': 1.65,\n   'moderatelyActive_distance': 0.69,\n   'lightlyActive_distance': 4.08,\n   'sedentaryActive_distance': 0}},\n {'type': 'activity',\n  'data': {'date': '2023-03-15',\n   'caloriesOut': 2358,\n   'floors': 62,\n   'steps': 16998,\n   'sedentaryMinutes': 606,\n   'veryActiveMinutes': 39,\n   'lightlyActiveMinutes': 256,\n   'moderatelyActiveMinutes': 32,\n   'veryActive_distance': 2.09,\n   'moderatelyActive_distance': 1.33,\n   'lightlyActive_distance': 4.1,\n   'sedentaryActive_distance': 0}},\n {'type': 'activity',\n  'data': {'date': '2023-03-16',\n   'caloriesOut': 2540,\n   'floors': 62,\n   'steps': 15950,\n   'sedentaryMinutes': 582,\n   'veryActiveMinutes': 59,\n   'lightlyActiveMinutes': 296,\n   'moderatelyActiveMinutes': 45,\n   'veryActive_distance': 3.33,\n   'moderatelyActive_distance': 1.59,\n   'lightlyActive_distance': 2.53,\n   'sedentaryActive_distance': 0}},\n {'type': 'activity',\n  'data': {'date': '2023-03-17',\n   'caloriesOut': 2266,\n   'floors': 51,\n   'steps': 12460,\n   'sedentaryMinutes': 847,\n   'veryActiveMinutes': 33,\n   'lightlyActiveMinutes': 218,\n   'moderatelyActiveMinutes': 35,\n   'veryActive_distance': 1.56,\n   'moderatelyActive_distance': 0.69,\n   'lightlyActive_distance': 3.36,\n   'sedentaryActive_distance': 0}},\n {'type': 'activity',\n  'data': {'date': '2023-03-18',\n   'caloriesOut': 1854,\n   'floors': 7,\n   'steps': 6769,\n   'sedentaryMinutes': 550,\n   'veryActiveMinutes': 0,\n   'lightlyActiveMinutes': 208,\n   'moderatelyActiveMinutes': 0,\n   'veryActive_distance': 0,\n   'moderatelyActive_distance': 0,\n   'lightlyActive_distance': 2.65,\n   'sedentaryActive_distance': 0}},\n {'type': 'activity',\n  'data': {'date': '2023-03-19',\n   'caloriesOut': 1618,\n   'floors': 1,\n   'steps': 3646,\n   'sedentaryMinutes': 1350,\n   'veryActiveMinutes': 0,\n   'lightlyActiveMinutes': 90,\n   'moderatelyActiveMinutes': 0,\n   'veryActive_distance': 0,\n   'moderatelyActive_distance': 0,\n   'lightlyActive_distance': 1.59,\n   'sedentaryActive_distance': 0}},\n {'type': 'activity',\n  'data': {'date': '2023-03-20',\n   'caloriesOut': 1466,\n   'floors': 4,\n   'steps': 1968,\n   'sedentaryMinutes': 1382,\n   'veryActiveMinutes': 0,\n   'lightlyActiveMinutes': 58,\n   'moderatelyActiveMinutes': 0,\n   'veryActive_distance': 0,\n   'moderatelyActive_distance': 0,\n   'lightlyActive_distance': 0.68,\n   'sedentaryActive_distance': 0}},\n {'type': 'activity',\n  'data': {'date': '2023-03-21',\n   'caloriesOut': 1772,\n   'floors': 3,\n   'steps': 1876,\n   'sedentaryMinutes': 1440,\n   'veryActiveMinutes': 0,\n   'lightlyActiveMinutes': 0,\n   'moderatelyActiveMinutes': 0,\n   'veryActive_distance': 0,\n   'moderatelyActive_distance': 0,\n   'lightlyActive_distance': 0,\n   'sedentaryActive_distance': 0}},\n {'type': 'activity',\n  'data': {'date': '2023-03-22',\n   'caloriesOut': 2260,\n   'floors': 31,\n   'steps': 10618,\n   'sedentaryMinutes': 1440,\n   'veryActiveMinutes': 0,\n   'lightlyActiveMinutes': 0,\n   'moderatelyActiveMinutes': 0,\n   'veryActive_distance': 0,\n   'moderatelyActive_distance': 0,\n   'lightlyActive_distance': 0,\n   'sedentaryActive_distance': 0}},\n {'type': 'activity',\n  'data': {'date': '2023-03-23',\n   'caloriesOut': 2096,\n   'floors': 18,\n   'steps': 8489,\n   'sedentaryMinutes': 1440,\n   'veryActiveMinutes': 0,\n   'lightlyActiveMinutes': 0,\n   'moderatelyActiveMinutes': 0,\n   'veryActive_distance': 0,\n   'moderatelyActive_distance': 0,\n   'lightlyActive_distance': 0,\n   'sedentaryActive_distance': 0}},\n {'type': 'activity',\n  'data': {'date': '2023-03-24',\n   'caloriesOut': 2612,\n   'floors': 73,\n   'steps': 18720,\n   'sedentaryMinutes': 1440,\n   'veryActiveMinutes': 0,\n   'lightlyActiveMinutes': 0,\n   'moderatelyActiveMinutes': 0,\n   'veryActive_distance': 0,\n   'moderatelyActive_distance': 0,\n   'lightlyActive_distance': 0,\n   'sedentaryActive_distance': 0}},\n {'type': 'activity',\n  'data': {'date': '2023-03-25',\n   'caloriesOut': 2017,\n   'floors': 12,\n   'steps': 7090,\n   'sedentaryMinutes': 1440,\n   'veryActiveMinutes': 0,\n   'lightlyActiveMinutes': 0,\n   'moderatelyActiveMinutes': 0,\n   'veryActive_distance': 0,\n   'moderatelyActive_distance': 0,\n   'lightlyActive_distance': 0,\n   'sedentaryActive_distance': 0}},\n {'type': 'activity',\n  'data': {'date': '2023-03-26',\n   'caloriesOut': 1640,\n   'floors': 7,\n   'steps': 3881,\n   'sedentaryMinutes': 1440,\n   'veryActiveMinutes': 0,\n   'lightlyActiveMinutes': 0,\n   'moderatelyActiveMinutes': 0,\n   'veryActive_distance': 0,\n   'moderatelyActive_distance': 0,\n   'lightlyActive_distance': 0,\n   'sedentaryActive_distance': 0}},\n {'type': 'activity',\n  'data': {'date': '2023-03-27',\n   'caloriesOut': 1688,\n   'floors': 9,\n   'steps': 4362,\n   'sedentaryMinutes': 1440,\n   'veryActiveMinutes': 0,\n   'lightlyActiveMinutes': 0,\n   'moderatelyActiveMinutes': 0,\n   'veryActive_distance': 0,\n   'moderatelyActive_distance': 0,\n   'lightlyActive_distance': 0,\n   'sedentaryActive_distance': 0}},\n {'type': 'activity',\n  'data': {'date': '2023-03-28',\n   'caloriesOut': 2005,\n   'floors': 41,\n   'steps': 9391,\n   'sedentaryMinutes': 1440,\n   'veryActiveMinutes': 0,\n   'lightlyActiveMinutes': 0,\n   'moderatelyActiveMinutes': 0,\n   'veryActive_distance': 0,\n   'moderatelyActive_distance': 0,\n   'lightlyActive_distance': 0,\n   'sedentaryActive_distance': 0}},\n {'type': 'activity',\n  'data': {'date': '2023-03-29',\n   'caloriesOut': 1842,\n   'floors': 22,\n   'steps': 7976,\n   'sedentaryMinutes': 1440,\n   'veryActiveMinutes': 0,\n   'lightlyActiveMinutes': 0,\n   'moderatelyActiveMinutes': 0,\n   'veryActive_distance': 0,\n   'moderatelyActive_distance': 0,\n   'lightlyActive_distance': 0,\n   'sedentaryActive_distance': 0}},\n {'type': 'activity',\n  'data': {'date': '2023-03-30',\n   'caloriesOut': 1892,\n   'floors': 17,\n   'steps': 7018,\n   'sedentaryMinutes': 1440,\n   'veryActiveMinutes': 0,\n   'lightlyActiveMinutes': 0,\n   'moderatelyActiveMinutes': 0,\n   'veryActive_distance': 0,\n   'moderatelyActive_distance': 0,\n   'lightlyActive_distance': 0,\n   'sedentaryActive_distance': 0}},\n {'type': 'activity',\n  'data': {'date': '2023-03-31',\n   'caloriesOut': 1898,\n   'floors': 16,\n   'steps': 7182,\n   'sedentaryMinutes': 1226,\n   'veryActiveMinutes': 0,\n   'lightlyActiveMinutes': 204,\n   'moderatelyActiveMinutes': 10,\n   'veryActive_distance': 0,\n   'moderatelyActive_distance': 0.42,\n   'lightlyActive_distance': 2.75,\n   'sedentaryActive_distance': 0}},\n {'type': 'activity',\n  'data': {'date': '2023-04-01',\n   'caloriesOut': 2310,\n   'floors': 10,\n   'steps': 11521,\n   'sedentaryMinutes': 1032,\n   'veryActiveMinutes': 2,\n   'lightlyActiveMinutes': 378,\n   'moderatelyActiveMinutes': 28,\n   'veryActive_distance': 0.09,\n   'moderatelyActive_distance': 0.95,\n   'lightlyActive_distance': 3.94,\n   'sedentaryActive_distance': 0}},\n {'type': 'activity',\n  'data': {'date': '2023-04-02',\n   'caloriesOut': 2161,\n   'floors': 17,\n   'steps': 10385,\n   'sedentaryMinutes': 1129,\n   'veryActiveMinutes': 7,\n   'lightlyActiveMinutes': 280,\n   'moderatelyActiveMinutes': 24,\n   'veryActive_distance': 0.33,\n   'moderatelyActive_distance': 1.08,\n   'lightlyActive_distance': 3.09,\n   'sedentaryActive_distance': 0}},\n {'type': 'activity',\n  'data': {'date': '2023-04-03',\n   'caloriesOut': 1707,\n   'floors': 7,\n   'steps': 4585,\n   'sedentaryMinutes': 1293,\n   'veryActiveMinutes': 16,\n   'lightlyActiveMinutes': 121,\n   'moderatelyActiveMinutes': 10,\n   'veryActive_distance': 0.78,\n   'moderatelyActive_distance': 0.42,\n   'lightlyActive_distance': 0.79,\n   'sedentaryActive_distance': 0}},\n {'type': 'activity',\n  'data': {'date': '2023-04-04',\n   'caloriesOut': 1807,\n   'floors': 15,\n   'steps': 5289,\n   'sedentaryMinutes': 1253,\n   'veryActiveMinutes': 0,\n   'lightlyActiveMinutes': 187,\n   'moderatelyActiveMinutes': 0,\n   'veryActive_distance': 0,\n   'moderatelyActive_distance': 0,\n   'lightlyActive_distance': 2.31,\n   'sedentaryActive_distance': 0}},\n {'type': 'activity',\n  'data': {'date': '2023-04-05',\n   'caloriesOut': 1958,\n   'floors': 14,\n   'steps': 5826,\n   'sedentaryMinutes': 1213,\n   'veryActiveMinutes': 0,\n   'lightlyActiveMinutes': 227,\n   'moderatelyActiveMinutes': 0,\n   'veryActive_distance': 0,\n   'moderatelyActive_distance': 0,\n   'lightlyActive_distance': 2.62,\n   'sedentaryActive_distance': 0}},\n {'type': 'activity',\n  'data': {'date': '2023-04-06',\n   'caloriesOut': 1870,\n   'floors': 8,\n   'steps': 6585,\n   'sedentaryMinutes': 1226,\n   'veryActiveMinutes': 5,\n   'lightlyActiveMinutes': 197,\n   'moderatelyActiveMinutes': 12,\n   'veryActive_distance': 0.31,\n   'moderatelyActive_distance': 0.53,\n   'lightlyActive_distance': 2.06,\n   'sedentaryActive_distance': 0}},\n {'type': 'activity',\n  'data': {'date': '2023-04-07',\n   'caloriesOut': 2013,\n   'floors': 22,\n   'steps': 9352,\n   'sedentaryMinutes': 1176,\n   'veryActiveMinutes': 21,\n   'lightlyActiveMinutes': 235,\n   'moderatelyActiveMinutes': 8,\n   'veryActive_distance': 1.02,\n   'moderatelyActive_distance': 0.32,\n   'lightlyActive_distance': 2.74,\n   'sedentaryActive_distance': 0}},\n {'type': 'activity',\n  'data': {'date': '2023-04-08',\n   'caloriesOut': 1902,\n   'floors': 16,\n   'steps': 7462,\n   'sedentaryMinutes': 796,\n   'veryActiveMinutes': 21,\n   'lightlyActiveMinutes': 159,\n   'moderatelyActiveMinutes': 11,\n   'veryActive_distance': 1.03,\n   'moderatelyActive_distance': 0.45,\n   'lightlyActive_distance': 1.57,\n   'sedentaryActive_distance': 0}},\n {'type': 'activity',\n  'data': {'date': '2023-04-09',\n   'caloriesOut': 2064,\n   'floors': 17,\n   'steps': 9626,\n   'sedentaryMinutes': 1143,\n   'veryActiveMinutes': 12,\n   'lightlyActiveMinutes': 276,\n   'moderatelyActiveMinutes': 9,\n   'veryActive_distance': 0.78,\n   'moderatelyActive_distance': 0.29,\n   'lightlyActive_distance': 3.31,\n   'sedentaryActive_distance': 0}},\n {'type': 'activity',\n  'data': {'date': '2023-04-10',\n   'caloriesOut': 2248,\n   'floors': 24,\n   'steps': 11477,\n   'sedentaryMinutes': 793,\n   'veryActiveMinutes': 13,\n   'lightlyActiveMinutes': 291,\n   'moderatelyActiveMinutes': 17,\n   'veryActive_distance': 0.64,\n   'moderatelyActive_distance': 0.6,\n   'lightlyActive_distance': 3.8,\n   'sedentaryActive_distance': 0}},\n {'type': 'activity',\n  'data': {'date': '2023-04-11',\n   'caloriesOut': 2067,\n   'floors': 28,\n   'steps': 10420,\n   'sedentaryMinutes': 794,\n   'veryActiveMinutes': 22,\n   'lightlyActiveMinutes': 221,\n   'moderatelyActiveMinutes': 13,\n   'veryActive_distance': 1.28,\n   'moderatelyActive_distance': 0.44,\n   'lightlyActive_distance': 3,\n   'sedentaryActive_distance': 0}},\n {'type': 'activity',\n  'data': {'date': '2023-04-12',\n   'caloriesOut': 1960,\n   'floors': 8,\n   'steps': 6603,\n   'sedentaryMinutes': 1167,\n   'veryActiveMinutes': 0,\n   'lightlyActiveMinutes': 273,\n   'moderatelyActiveMinutes': 0,\n   'veryActive_distance': 0,\n   'moderatelyActive_distance': 0,\n   'lightlyActive_distance': 2.92,\n   'sedentaryActive_distance': 0}},\n {'type': 'activity',\n  'data': {'date': '2023-04-13',\n   'caloriesOut': 2059,\n   'floors': 14,\n   'steps': 9059,\n   'sedentaryMinutes': 646,\n   'veryActiveMinutes': 14,\n   'lightlyActiveMinutes': 220,\n   'moderatelyActiveMinutes': 36,\n   'veryActive_distance': 0.35,\n   'moderatelyActive_distance': 0.86,\n   'lightlyActive_distance': 2.71,\n   'sedentaryActive_distance': 0}},\n {'type': 'activity',\n  'data': {'date': '2023-04-14',\n   'caloriesOut': 1997,\n   'floors': 20,\n   'steps': 9955,\n   'sedentaryMinutes': 1189,\n   'veryActiveMinutes': 6,\n   'lightlyActiveMinutes': 223,\n   'moderatelyActiveMinutes': 22,\n   'veryActive_distance': 0.3,\n   'moderatelyActive_distance': 0.96,\n   'lightlyActive_distance': 3.03,\n   'sedentaryActive_distance': 0}},\n {'type': 'activity',\n  'data': {'date': '2023-04-15',\n   'caloriesOut': 1773,\n   'floors': 6,\n   'steps': 4595,\n   'sedentaryMinutes': 644,\n   'veryActiveMinutes': 0,\n   'lightlyActiveMinutes': 197,\n   'moderatelyActiveMinutes': 0,\n   'veryActive_distance': 0,\n   'moderatelyActive_distance': 0,\n   'lightlyActive_distance': 1.97,\n   'sedentaryActive_distance': 0}}]"
     },
     "execution_count": 5,
     "metadata": {},
     "output_type": "execute_result"
    }
   ],
   "source": [
    "activity = []\n",
    "for date in dates:\n",
    "    date = date.date().strftime(\"%Y-%m-%d\")\n",
    "    activity_data = fitbit_api.activities(date=date)  # api call\n",
    "\n",
    "    # general activity information\n",
    "    activity_dict = {'type': 'activity'}\n",
    "    data = {'date': date}\n",
    "    keys = ['caloriesOut', 'floors', 'steps'] # select data from api\n",
    "    data.update({x:activity_data['summary'][x] for x in keys})\n",
    "\n",
    "    # minutes information\n",
    "    minutes_dict = {}\n",
    "    keys = ['fairlyActiveMinutes', 'sedentaryMinutes', 'veryActiveMinutes', 'lightlyActiveMinutes'] # select data from api\n",
    "    minutes_dict.update({x:activity_data['summary'][x] for x in keys})\n",
    "    minutes_dict[\"moderatelyActiveMinutes\"] = minutes_dict.pop(\"fairlyActiveMinutes\")\n",
    "    data.update(minutes_dict)\n",
    "\n",
    "    # distances information\n",
    "    distances = activity_data['summary']['distances']\n",
    "    distances_dict = {}\n",
    "    for distance in distances:\n",
    "        if distance['activity'] == 'veryActive':\n",
    "            distances_dict.update({'veryActive_distance': distance['distance']})\n",
    "        if distance['activity'] == 'moderatelyActive':\n",
    "            distances_dict.update({'moderatelyActive_distance': distance['distance']})\n",
    "        if distance['activity'] == 'lightlyActive':\n",
    "            distances_dict.update({'lightlyActive_distance': distance['distance']})\n",
    "        if distance['activity'] == 'sedentaryActive':\n",
    "            distances_dict.update({'sedentaryActive_distance': distance['distance']})\n",
    "    data.update(distances_dict) # create a dict that is ONE Fitbit record/document in the collection\n",
    "\n",
    "    activity_dict.update({'data': data})\n",
    "    activity.append(activity_dict)\n",
    "activity"
   ],
   "metadata": {
    "collapsed": false,
    "pycharm": {
     "name": "#%%\n"
    }
   }
  },
  {
   "cell_type": "code",
   "execution_count": 6,
   "outputs": [],
   "source": [
    "with open(\"data/activity.json\", \"w\") as outfile:\n",
    "    json.dump(activity, outfile)"
   ],
   "metadata": {
    "collapsed": false,
    "pycharm": {
     "name": "#%%\n"
    }
   }
  },
  {
   "cell_type": "markdown",
   "source": [
    "#### Goals data"
   ],
   "metadata": {
    "collapsed": false,
    "pycharm": {
     "name": "#%% md\n"
    }
   }
  },
  {
   "cell_type": "code",
   "execution_count": 7,
   "outputs": [
    {
     "data": {
      "text/plain": "{'type': 'goals', 'data': {'caloriesOut': 2200, 'steps': 8000, 'floors': 10}}"
     },
     "execution_count": 7,
     "metadata": {},
     "output_type": "execute_result"
    }
   ],
   "source": [
    "# create only one document without date information because I didn't change the goals\n",
    "goals_dict = {'type': 'goals'}\n",
    "keys = ['caloriesOut', 'steps', 'floors'] # select data from api\n",
    "data = {x:activity_data['goals'][x] for x in keys}\n",
    "goals_dict.update({'data': data})\n",
    "goals_dict"
   ],
   "metadata": {
    "collapsed": false,
    "pycharm": {
     "name": "#%%\n"
    }
   }
  },
  {
   "cell_type": "code",
   "execution_count": 8,
   "outputs": [],
   "source": [
    "with open(\"data/goals.json\", \"w\") as outfile:\n",
    "    json.dump(goals_dict, outfile)"
   ],
   "metadata": {
    "collapsed": false,
    "pycharm": {
     "name": "#%%\n"
    }
   }
  },
  {
   "cell_type": "markdown",
   "source": [
    "#### Badges data"
   ],
   "metadata": {
    "collapsed": false,
    "pycharm": {
     "name": "#%% md\n"
    }
   }
  },
  {
   "cell_type": "code",
   "execution_count": 4,
   "outputs": [],
   "source": [
    "badges_data = fitbit_api.get_badges() # there are duplicates but is normal - it means that user get 2 same badges in a day"
   ],
   "metadata": {
    "collapsed": false,
    "pycharm": {
     "name": "#%%\n"
    }
   }
  },
  {
   "cell_type": "code",
   "execution_count": 5,
   "outputs": [
    {
     "data": {
      "text/plain": "[{'type': 'badges',\n  'data': {'badgeType': 'DAILY_STEPS', 'date': '2023-02-26'}},\n {'type': 'badges',\n  'data': {'badgeType': 'DAILY_STEPS', 'date': '2023-02-27'}},\n {'type': 'badges',\n  'data': {'badgeType': 'DAILY_STEPS', 'date': '2023-03-24'}},\n {'type': 'badges',\n  'data': {'badgeType': 'DAILY_STEPS', 'date': '2023-03-24'}},\n {'type': 'badges',\n  'data': {'badgeType': 'DAILY_STEPS', 'date': '2023-04-11'}},\n {'type': 'badges',\n  'data': {'badgeType': 'DAILY_FLOORS', 'date': '2023-03-24'}}]"
     },
     "execution_count": 5,
     "metadata": {},
     "output_type": "execute_result"
    }
   ],
   "source": [
    "badges = []\n",
    "keys =['dateTime', 'badgeType'] # select data from api\n",
    "for badge in badges_data['badges']:\n",
    "    badge_dict = {'type': 'badges'}\n",
    "    data = {x:badge[x] for x in keys}\n",
    "\n",
    "    # keep the badges between 15-02-2023 and 15-04-2023\n",
    "    date = data['dateTime']\n",
    "    date = datetime.strptime(date, '%Y-%m-%d').date()\n",
    "    if (date <= datetime.strptime('2023-04-15', '%Y-%m-%d').date()) and (date >= datetime.strptime('2023-02-15', '%Y-%m-%d').date()):\n",
    "        data[\"date\"] = data.pop(\"dateTime\")\n",
    "        badge_dict.update({'data': data})\n",
    "        badges.append(badge_dict)\n",
    "badges"
   ],
   "metadata": {
    "collapsed": false,
    "pycharm": {
     "name": "#%%\n"
    }
   }
  },
  {
   "cell_type": "code",
   "execution_count": 6,
   "outputs": [],
   "source": [
    "with open(\"data/badges.json\", \"w\") as outfile:\n",
    "    json.dump(badges, outfile)"
   ],
   "metadata": {
    "collapsed": false,
    "pycharm": {
     "name": "#%%\n"
    }
   }
  },
  {
   "cell_type": "markdown",
   "source": [
    "#### Heart data"
   ],
   "metadata": {
    "collapsed": false,
    "pycharm": {
     "name": "#%% md\n"
    }
   }
  },
  {
   "cell_type": "code",
   "execution_count": 9,
   "outputs": [
    {
     "data": {
      "text/plain": "[{'type': 'heart',\n  'data': {'date': '2023-02-15',\n   'min_heart_rate': 64,\n   'max_heart_rate': 159,\n   'mean_heart_rate': 85.28256880733944}},\n {'type': 'heart',\n  'data': {'date': '2023-02-16',\n   'min_heart_rate': 49,\n   'max_heart_rate': 161,\n   'mean_heart_rate': 81.90396659707724}},\n {'type': 'heart',\n  'data': {'date': '2023-02-17',\n   'min_heart_rate': 59,\n   'max_heart_rate': 150,\n   'mean_heart_rate': 82.17624810892588}},\n {'type': 'heart',\n  'data': {'date': '2023-02-18',\n   'min_heart_rate': 53,\n   'max_heart_rate': 132,\n   'mean_heart_rate': 78.31213017751479}},\n {'type': 'heart',\n  'data': {'date': '2023-02-19',\n   'min_heart_rate': 55,\n   'max_heart_rate': 119,\n   'mean_heart_rate': 72.12554112554112}},\n {'type': 'heart',\n  'data': {'date': '2023-02-20',\n   'min_heart_rate': 58,\n   'max_heart_rate': 130,\n   'mean_heart_rate': 80.18756585879873}},\n {'type': 'heart',\n  'data': {'date': '2023-02-21',\n   'min_heart_rate': 71,\n   'max_heart_rate': 136,\n   'mean_heart_rate': 89.64722222222223}},\n {'type': 'heart',\n  'data': {'date': '2023-02-22',\n   'min_heart_rate': 60,\n   'max_heart_rate': 137,\n   'mean_heart_rate': 84.55107713690063}},\n {'type': 'heart',\n  'data': {'date': '2023-02-23',\n   'min_heart_rate': 53,\n   'max_heart_rate': 143,\n   'mean_heart_rate': 81.47994370161858}},\n {'type': 'heart',\n  'data': {'date': '2023-02-24',\n   'min_heart_rate': 57,\n   'max_heart_rate': 135,\n   'mean_heart_rate': 83.08292682926829}},\n {'type': 'heart',\n  'data': {'date': '2023-02-25',\n   'min_heart_rate': 71,\n   'max_heart_rate': 159,\n   'mean_heart_rate': 93.77375565610859}},\n {'type': 'heart',\n  'data': {'date': '2023-02-26',\n   'min_heart_rate': 59,\n   'max_heart_rate': 127,\n   'mean_heart_rate': 84.7317763623496}},\n {'type': 'heart',\n  'data': {'date': '2023-02-27',\n   'min_heart_rate': 61,\n   'max_heart_rate': 152,\n   'mean_heart_rate': 85.93125}},\n {'type': 'heart',\n  'data': {'date': '2023-02-28',\n   'min_heart_rate': 59,\n   'max_heart_rate': 157,\n   'mean_heart_rate': 89.18680555555555}},\n {'type': 'heart',\n  'data': {'date': '2023-03-01',\n   'min_heart_rate': 56,\n   'max_heart_rate': 148,\n   'mean_heart_rate': 80.06132879045997}},\n {'type': 'heart',\n  'data': {'date': '2023-03-02',\n   'min_heart_rate': 55,\n   'max_heart_rate': 133,\n   'mean_heart_rate': 80.33611111111111}},\n {'type': 'heart',\n  'data': {'date': '2023-03-03',\n   'min_heart_rate': 52,\n   'max_heart_rate': 163,\n   'mean_heart_rate': 77.62305295950156}},\n {'type': 'heart',\n  'data': {'date': '2023-03-04',\n   'min_heart_rate': 63,\n   'max_heart_rate': 144,\n   'mean_heart_rate': 95.86781609195403}},\n {'type': 'heart',\n  'data': {'date': '2023-03-05',\n   'min_heart_rate': 54,\n   'max_heart_rate': 163,\n   'mean_heart_rate': 89.6678674351585}},\n {'type': 'heart',\n  'data': {'date': '2023-03-06',\n   'min_heart_rate': 55,\n   'max_heart_rate': 151,\n   'mean_heart_rate': 82.30982745686421}},\n {'type': 'heart',\n  'data': {'date': '2023-03-07',\n   'min_heart_rate': 53,\n   'max_heart_rate': 127,\n   'mean_heart_rate': 82.80358534684333}},\n {'type': 'heart',\n  'data': {'date': '2023-03-08',\n   'min_heart_rate': 51,\n   'max_heart_rate': 130,\n   'mean_heart_rate': 78.13002873563218}},\n {'type': 'heart',\n  'data': {'date': '2023-03-09',\n   'min_heart_rate': 52,\n   'max_heart_rate': 134,\n   'mean_heart_rate': 79.40069444444444}},\n {'type': 'heart',\n  'data': {'date': '2023-03-10',\n   'min_heart_rate': 54,\n   'max_heart_rate': 135,\n   'mean_heart_rate': 83.70888030888031}},\n {'type': 'heart',\n  'data': {'date': '2023-03-11',\n   'min_heart_rate': 53,\n   'max_heart_rate': 183,\n   'mean_heart_rate': 83.51916058394161}},\n {'type': 'heart',\n  'data': {'date': '2023-03-12',\n   'min_heart_rate': 50,\n   'max_heart_rate': 160,\n   'mean_heart_rate': 78.99587798845836}},\n {'type': 'heart',\n  'data': {'date': '2023-03-13',\n   'min_heart_rate': 56,\n   'max_heart_rate': 159,\n   'mean_heart_rate': 86.02361111111111}},\n {'type': 'heart',\n  'data': {'date': '2023-03-14',\n   'min_heart_rate': 59,\n   'max_heart_rate': 151,\n   'mean_heart_rate': 88.0771103896104}},\n {'type': 'heart',\n  'data': {'date': '2023-03-15',\n   'min_heart_rate': 56,\n   'max_heart_rate': 158,\n   'mean_heart_rate': 83.24055944055944}},\n {'type': 'heart',\n  'data': {'date': '2023-03-16',\n   'min_heart_rate': 55,\n   'max_heart_rate': 145,\n   'mean_heart_rate': 86.80256593014968}},\n {'type': 'heart',\n  'data': {'date': '2023-03-17',\n   'min_heart_rate': 60,\n   'max_heart_rate': 148,\n   'mean_heart_rate': 89.44468085106384}},\n {'type': 'heart',\n  'data': {'date': '2023-03-18',\n   'min_heart_rate': 53,\n   'max_heart_rate': 143,\n   'mean_heart_rate': 77.16880733944954}},\n {'type': 'heart',\n  'data': {'date': '2023-03-19',\n   'min_heart_rate': 57,\n   'max_heart_rate': 180,\n   'mean_heart_rate': 112.5774647887324}},\n {'type': 'heart',\n  'data': {'date': '2023-03-20',\n   'min_heart_rate': 66,\n   'max_heart_rate': 144,\n   'mean_heart_rate': 85.3265306122449}},\n {'type': 'heart',\n  'data': {'date': '2023-04-02',\n   'min_heart_rate': 58,\n   'max_heart_rate': 125,\n   'mean_heart_rate': 88.09810671256454}},\n {'type': 'heart',\n  'data': {'date': '2023-04-03',\n   'min_heart_rate': 54,\n   'max_heart_rate': 124,\n   'mean_heart_rate': 80.72727272727273}},\n {'type': 'heart',\n  'data': {'date': '2023-04-04',\n   'min_heart_rate': 51,\n   'max_heart_rate': 138,\n   'mean_heart_rate': 80.51494093120222}},\n {'type': 'heart',\n  'data': {'date': '2023-04-05',\n   'min_heart_rate': 52,\n   'max_heart_rate': 136,\n   'mean_heart_rate': 88.63472222222222}},\n {'type': 'heart',\n  'data': {'date': '2023-04-06',\n   'min_heart_rate': 52,\n   'max_heart_rate': 128,\n   'mean_heart_rate': 80.02172389628592}},\n {'type': 'heart',\n  'data': {'date': '2023-04-07',\n   'min_heart_rate': 58,\n   'max_heart_rate': 165,\n   'mean_heart_rate': 92.62510602205259}},\n {'type': 'heart',\n  'data': {'date': '2023-04-08',\n   'min_heart_rate': 53,\n   'max_heart_rate': 150,\n   'mean_heart_rate': 82.51935256861366}},\n {'type': 'heart',\n  'data': {'date': '2023-04-09',\n   'min_heart_rate': 61,\n   'max_heart_rate': 146,\n   'mean_heart_rate': 90.49399038461539}},\n {'type': 'heart',\n  'data': {'date': '2023-04-10',\n   'min_heart_rate': 50,\n   'max_heart_rate': 142,\n   'mean_heart_rate': 87.5423611111111}},\n {'type': 'heart',\n  'data': {'date': '2023-04-11',\n   'min_heart_rate': 51,\n   'max_heart_rate': 165,\n   'mean_heart_rate': 82.43202846975089}},\n {'type': 'heart',\n  'data': {'date': '2023-04-12',\n   'min_heart_rate': 63,\n   'max_heart_rate': 132,\n   'mean_heart_rate': 88.37883283877349}},\n {'type': 'heart',\n  'data': {'date': '2023-04-13',\n   'min_heart_rate': 49,\n   'max_heart_rate': 145,\n   'mean_heart_rate': 78.13501144164759}},\n {'type': 'heart',\n  'data': {'date': '2023-04-14',\n   'min_heart_rate': 71,\n   'max_heart_rate': 129,\n   'mean_heart_rate': 93.22549019607843}},\n {'type': 'heart',\n  'data': {'date': '2023-04-15',\n   'min_heart_rate': 50,\n   'max_heart_rate': 123,\n   'mean_heart_rate': 77.65904059040591}}]"
     },
     "execution_count": 9,
     "metadata": {},
     "output_type": "execute_result"
    }
   ],
   "source": [
    "heart = []\n",
    "for date in dates:\n",
    "    date = date.date().strftime(\"%Y-%m-%d\")\n",
    "\n",
    "    heart_data = fitbit_api.intraday_time_series('activities/heart', date, detail_level='1min') # api call\n",
    "    heart_data = heart_data['activities-heart-intraday']['dataset'] # select data from api\n",
    "\n",
    "    if heart_data:\n",
    "        # aggregation of the daily information about heart rate\n",
    "        heart_dict = {'type': 'heart'}\n",
    "        df = pd.DataFrame(heart_data)\n",
    "        min_value = df['value'].min()\n",
    "        max_value = df['value'].max()\n",
    "        mean_value = df['value'].mean()\n",
    "\n",
    "        data = {'date': date, 'min_heart_rate': min_value, 'max_heart_rate': max_value, 'mean_heart_rate': mean_value}\n",
    "        heart_dict.update({'data': data})\n",
    "        heart.append(heart_dict)\n",
    "heart"
   ],
   "metadata": {
    "collapsed": false,
    "pycharm": {
     "name": "#%%\n"
    }
   }
  },
  {
   "cell_type": "code",
   "execution_count": 10,
   "outputs": [],
   "source": [
    "with open(\"data/heart.json\", \"w\") as outfile:\n",
    "    json.dump(heart, outfile)"
   ],
   "metadata": {
    "collapsed": false,
    "pycharm": {
     "name": "#%%\n"
    }
   }
  },
  {
   "cell_type": "code",
   "execution_count": null,
   "outputs": [],
   "source": [],
   "metadata": {
    "collapsed": false,
    "pycharm": {
     "name": "#%%\n"
    }
   }
  }
 ],
 "metadata": {
  "kernelspec": {
   "display_name": "Python 3",
   "language": "python",
   "name": "python3"
  },
  "language_info": {
   "codemirror_mode": {
    "name": "ipython",
    "version": 2
   },
   "file_extension": ".py",
   "mimetype": "text/x-python",
   "name": "python",
   "nbconvert_exporter": "python",
   "pygments_lexer": "ipython2",
   "version": "2.7.6"
  }
 },
 "nbformat": 4,
 "nbformat_minor": 0
}